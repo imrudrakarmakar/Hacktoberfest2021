{
 "cells": [
  {
   "cell_type": "markdown",
   "metadata": {},
   "source": [
    "# Covid19 Vaccine Analysis"
   ]
  },
  {
   "cell_type": "markdown",
   "metadata": {},
   "source": [
    "Many vaccines have been introduced so far to fight covid-19. No vaccine has guaranteed 100% accuracy so far, but most manufacturing companies claim their vaccine is not 100% accurate, but still, it will save your life by giving you immunity.\n",
    "\n",
    "Thus, each country tries to vaccinate a large part of its population so as not to depend on a single vaccine. That’s I am going to analysis in this project, which is how many vaccines each country is using to fight covid-19. In the section below, I have made my project on Covid-19 vaccines analysis with Python."
   ]
  },
  {
   "cell_type": "markdown",
   "metadata": {},
   "source": [
    "### Importing the necessary Python libraries and the dataset"
   ]
  },
  {
   "cell_type": "code",
   "execution_count": 2,
   "metadata": {},
   "outputs": [
    {
     "data": {
      "text/html": [
       "<div>\n",
       "<style scoped>\n",
       "    .dataframe tbody tr th:only-of-type {\n",
       "        vertical-align: middle;\n",
       "    }\n",
       "\n",
       "    .dataframe tbody tr th {\n",
       "        vertical-align: top;\n",
       "    }\n",
       "\n",
       "    .dataframe thead th {\n",
       "        text-align: right;\n",
       "    }\n",
       "</style>\n",
       "<table border=\"1\" class=\"dataframe\">\n",
       "  <thead>\n",
       "    <tr style=\"text-align: right;\">\n",
       "      <th></th>\n",
       "      <th>country</th>\n",
       "      <th>iso_code</th>\n",
       "      <th>date</th>\n",
       "      <th>total_vaccinations</th>\n",
       "      <th>people_vaccinated</th>\n",
       "      <th>people_fully_vaccinated</th>\n",
       "      <th>daily_vaccinations_raw</th>\n",
       "      <th>daily_vaccinations</th>\n",
       "      <th>total_vaccinations_per_hundred</th>\n",
       "      <th>people_vaccinated_per_hundred</th>\n",
       "      <th>people_fully_vaccinated_per_hundred</th>\n",
       "      <th>daily_vaccinations_per_million</th>\n",
       "      <th>vaccines</th>\n",
       "      <th>source_name</th>\n",
       "      <th>source_website</th>\n",
       "    </tr>\n",
       "  </thead>\n",
       "  <tbody>\n",
       "    <tr>\n",
       "      <th>0</th>\n",
       "      <td>Afghanistan</td>\n",
       "      <td>AFG</td>\n",
       "      <td>22-02-2021</td>\n",
       "      <td>0.0</td>\n",
       "      <td>0.0</td>\n",
       "      <td>NaN</td>\n",
       "      <td>NaN</td>\n",
       "      <td>NaN</td>\n",
       "      <td>0.0</td>\n",
       "      <td>0.0</td>\n",
       "      <td>NaN</td>\n",
       "      <td>NaN</td>\n",
       "      <td>Oxford/AstraZeneca</td>\n",
       "      <td>Government of Afghanistan</td>\n",
       "      <td>https://reliefweb.int/report/afghanistan/afgha...</td>\n",
       "    </tr>\n",
       "    <tr>\n",
       "      <th>1</th>\n",
       "      <td>Afghanistan</td>\n",
       "      <td>AFG</td>\n",
       "      <td>23-02-2021</td>\n",
       "      <td>NaN</td>\n",
       "      <td>NaN</td>\n",
       "      <td>NaN</td>\n",
       "      <td>NaN</td>\n",
       "      <td>1367.0</td>\n",
       "      <td>NaN</td>\n",
       "      <td>NaN</td>\n",
       "      <td>NaN</td>\n",
       "      <td>35.0</td>\n",
       "      <td>Oxford/AstraZeneca</td>\n",
       "      <td>Government of Afghanistan</td>\n",
       "      <td>https://reliefweb.int/report/afghanistan/afgha...</td>\n",
       "    </tr>\n",
       "    <tr>\n",
       "      <th>2</th>\n",
       "      <td>Afghanistan</td>\n",
       "      <td>AFG</td>\n",
       "      <td>24-02-2021</td>\n",
       "      <td>NaN</td>\n",
       "      <td>NaN</td>\n",
       "      <td>NaN</td>\n",
       "      <td>NaN</td>\n",
       "      <td>1367.0</td>\n",
       "      <td>NaN</td>\n",
       "      <td>NaN</td>\n",
       "      <td>NaN</td>\n",
       "      <td>35.0</td>\n",
       "      <td>Oxford/AstraZeneca</td>\n",
       "      <td>Government of Afghanistan</td>\n",
       "      <td>https://reliefweb.int/report/afghanistan/afgha...</td>\n",
       "    </tr>\n",
       "    <tr>\n",
       "      <th>3</th>\n",
       "      <td>Afghanistan</td>\n",
       "      <td>AFG</td>\n",
       "      <td>25-02-2021</td>\n",
       "      <td>NaN</td>\n",
       "      <td>NaN</td>\n",
       "      <td>NaN</td>\n",
       "      <td>NaN</td>\n",
       "      <td>1367.0</td>\n",
       "      <td>NaN</td>\n",
       "      <td>NaN</td>\n",
       "      <td>NaN</td>\n",
       "      <td>35.0</td>\n",
       "      <td>Oxford/AstraZeneca</td>\n",
       "      <td>Government of Afghanistan</td>\n",
       "      <td>https://reliefweb.int/report/afghanistan/afgha...</td>\n",
       "    </tr>\n",
       "    <tr>\n",
       "      <th>4</th>\n",
       "      <td>Afghanistan</td>\n",
       "      <td>AFG</td>\n",
       "      <td>26-02-2021</td>\n",
       "      <td>NaN</td>\n",
       "      <td>NaN</td>\n",
       "      <td>NaN</td>\n",
       "      <td>NaN</td>\n",
       "      <td>1367.0</td>\n",
       "      <td>NaN</td>\n",
       "      <td>NaN</td>\n",
       "      <td>NaN</td>\n",
       "      <td>35.0</td>\n",
       "      <td>Oxford/AstraZeneca</td>\n",
       "      <td>Government of Afghanistan</td>\n",
       "      <td>https://reliefweb.int/report/afghanistan/afgha...</td>\n",
       "    </tr>\n",
       "  </tbody>\n",
       "</table>\n",
       "</div>"
      ],
      "text/plain": [
       "       country iso_code        date  total_vaccinations  people_vaccinated  \\\n",
       "0  Afghanistan      AFG  22-02-2021                 0.0                0.0   \n",
       "1  Afghanistan      AFG  23-02-2021                 NaN                NaN   \n",
       "2  Afghanistan      AFG  24-02-2021                 NaN                NaN   \n",
       "3  Afghanistan      AFG  25-02-2021                 NaN                NaN   \n",
       "4  Afghanistan      AFG  26-02-2021                 NaN                NaN   \n",
       "\n",
       "   people_fully_vaccinated  daily_vaccinations_raw  daily_vaccinations  \\\n",
       "0                      NaN                     NaN                 NaN   \n",
       "1                      NaN                     NaN              1367.0   \n",
       "2                      NaN                     NaN              1367.0   \n",
       "3                      NaN                     NaN              1367.0   \n",
       "4                      NaN                     NaN              1367.0   \n",
       "\n",
       "   total_vaccinations_per_hundred  people_vaccinated_per_hundred  \\\n",
       "0                             0.0                            0.0   \n",
       "1                             NaN                            NaN   \n",
       "2                             NaN                            NaN   \n",
       "3                             NaN                            NaN   \n",
       "4                             NaN                            NaN   \n",
       "\n",
       "   people_fully_vaccinated_per_hundred  daily_vaccinations_per_million  \\\n",
       "0                                  NaN                             NaN   \n",
       "1                                  NaN                            35.0   \n",
       "2                                  NaN                            35.0   \n",
       "3                                  NaN                            35.0   \n",
       "4                                  NaN                            35.0   \n",
       "\n",
       "             vaccines                source_name  \\\n",
       "0  Oxford/AstraZeneca  Government of Afghanistan   \n",
       "1  Oxford/AstraZeneca  Government of Afghanistan   \n",
       "2  Oxford/AstraZeneca  Government of Afghanistan   \n",
       "3  Oxford/AstraZeneca  Government of Afghanistan   \n",
       "4  Oxford/AstraZeneca  Government of Afghanistan   \n",
       "\n",
       "                                      source_website  \n",
       "0  https://reliefweb.int/report/afghanistan/afgha...  \n",
       "1  https://reliefweb.int/report/afghanistan/afgha...  \n",
       "2  https://reliefweb.int/report/afghanistan/afgha...  \n",
       "3  https://reliefweb.int/report/afghanistan/afgha...  \n",
       "4  https://reliefweb.int/report/afghanistan/afgha...  "
      ]
     },
     "execution_count": 2,
     "metadata": {},
     "output_type": "execute_result"
    }
   ],
   "source": [
    "import numpy as np\n",
    "import pandas as pd\n",
    "import matplotlib.pyplot as plt\n",
    "import seaborn as sns\n",
    "data = pd.read_csv(\"country_vaccinations.csv\")\n",
    "data.head()"
   ]
  },
  {
   "cell_type": "markdown",
   "metadata": {},
   "source": [
    "### Exploring this data before we start analyzing the vaccines taken by countries "
   ]
  },
  {
   "cell_type": "code",
   "execution_count": 4,
   "metadata": {},
   "outputs": [
    {
     "data": {
      "text/html": [
       "<div>\n",
       "<style scoped>\n",
       "    .dataframe tbody tr th:only-of-type {\n",
       "        vertical-align: middle;\n",
       "    }\n",
       "\n",
       "    .dataframe tbody tr th {\n",
       "        vertical-align: top;\n",
       "    }\n",
       "\n",
       "    .dataframe thead th {\n",
       "        text-align: right;\n",
       "    }\n",
       "</style>\n",
       "<table border=\"1\" class=\"dataframe\">\n",
       "  <thead>\n",
       "    <tr style=\"text-align: right;\">\n",
       "      <th></th>\n",
       "      <th>total_vaccinations</th>\n",
       "      <th>people_vaccinated</th>\n",
       "      <th>people_fully_vaccinated</th>\n",
       "      <th>daily_vaccinations_raw</th>\n",
       "      <th>daily_vaccinations</th>\n",
       "      <th>total_vaccinations_per_hundred</th>\n",
       "      <th>people_vaccinated_per_hundred</th>\n",
       "      <th>people_fully_vaccinated_per_hundred</th>\n",
       "      <th>daily_vaccinations_per_million</th>\n",
       "    </tr>\n",
       "  </thead>\n",
       "  <tbody>\n",
       "    <tr>\n",
       "      <th>count</th>\n",
       "      <td>9.325000e+03</td>\n",
       "      <td>8.649000e+03</td>\n",
       "      <td>6.425000e+03</td>\n",
       "      <td>7.830000e+03</td>\n",
       "      <td>1.530700e+04</td>\n",
       "      <td>9325.000000</td>\n",
       "      <td>8649.000000</td>\n",
       "      <td>6425.000000</td>\n",
       "      <td>15307.000000</td>\n",
       "    </tr>\n",
       "    <tr>\n",
       "      <th>mean</th>\n",
       "      <td>5.180765e+06</td>\n",
       "      <td>3.271412e+06</td>\n",
       "      <td>1.645949e+06</td>\n",
       "      <td>1.359830e+05</td>\n",
       "      <td>7.910911e+04</td>\n",
       "      <td>15.928546</td>\n",
       "      <td>11.555663</td>\n",
       "      <td>5.836851</td>\n",
       "      <td>2997.132292</td>\n",
       "    </tr>\n",
       "    <tr>\n",
       "      <th>std</th>\n",
       "      <td>2.131066e+07</td>\n",
       "      <td>1.221271e+07</td>\n",
       "      <td>7.123496e+06</td>\n",
       "      <td>5.231930e+05</td>\n",
       "      <td>3.616686e+05</td>\n",
       "      <td>23.530195</td>\n",
       "      <td>15.459619</td>\n",
       "      <td>10.116900</td>\n",
       "      <td>4693.081687</td>\n",
       "    </tr>\n",
       "    <tr>\n",
       "      <th>min</th>\n",
       "      <td>0.000000e+00</td>\n",
       "      <td>0.000000e+00</td>\n",
       "      <td>1.000000e+00</td>\n",
       "      <td>0.000000e+00</td>\n",
       "      <td>0.000000e+00</td>\n",
       "      <td>0.000000</td>\n",
       "      <td>0.000000</td>\n",
       "      <td>0.000000</td>\n",
       "      <td>0.000000</td>\n",
       "    </tr>\n",
       "    <tr>\n",
       "      <th>25%</th>\n",
       "      <td>6.208300e+04</td>\n",
       "      <td>5.349000e+04</td>\n",
       "      <td>2.410700e+04</td>\n",
       "      <td>3.020500e+03</td>\n",
       "      <td>9.175000e+02</td>\n",
       "      <td>1.390000</td>\n",
       "      <td>1.300000</td>\n",
       "      <td>0.650000</td>\n",
       "      <td>358.000000</td>\n",
       "    </tr>\n",
       "    <tr>\n",
       "      <th>50%</th>\n",
       "      <td>4.419760e+05</td>\n",
       "      <td>3.380570e+05</td>\n",
       "      <td>1.792920e+05</td>\n",
       "      <td>1.603550e+04</td>\n",
       "      <td>6.506000e+03</td>\n",
       "      <td>6.590000</td>\n",
       "      <td>5.080000</td>\n",
       "      <td>2.460000</td>\n",
       "      <td>1501.000000</td>\n",
       "    </tr>\n",
       "    <tr>\n",
       "      <th>75%</th>\n",
       "      <td>1.988844e+06</td>\n",
       "      <td>1.380430e+06</td>\n",
       "      <td>7.142100e+05</td>\n",
       "      <td>6.341400e+04</td>\n",
       "      <td>2.987550e+04</td>\n",
       "      <td>20.610000</td>\n",
       "      <td>15.340000</td>\n",
       "      <td>6.630000</td>\n",
       "      <td>4008.500000</td>\n",
       "    </tr>\n",
       "    <tr>\n",
       "      <th>max</th>\n",
       "      <td>2.896270e+08</td>\n",
       "      <td>1.485629e+08</td>\n",
       "      <td>1.073465e+08</td>\n",
       "      <td>1.160100e+07</td>\n",
       "      <td>7.205286e+06</td>\n",
       "      <td>211.080000</td>\n",
       "      <td>111.320000</td>\n",
       "      <td>99.760000</td>\n",
       "      <td>118759.000000</td>\n",
       "    </tr>\n",
       "  </tbody>\n",
       "</table>\n",
       "</div>"
      ],
      "text/plain": [
       "       total_vaccinations  people_vaccinated  people_fully_vaccinated  \\\n",
       "count        9.325000e+03       8.649000e+03             6.425000e+03   \n",
       "mean         5.180765e+06       3.271412e+06             1.645949e+06   \n",
       "std          2.131066e+07       1.221271e+07             7.123496e+06   \n",
       "min          0.000000e+00       0.000000e+00             1.000000e+00   \n",
       "25%          6.208300e+04       5.349000e+04             2.410700e+04   \n",
       "50%          4.419760e+05       3.380570e+05             1.792920e+05   \n",
       "75%          1.988844e+06       1.380430e+06             7.142100e+05   \n",
       "max          2.896270e+08       1.485629e+08             1.073465e+08   \n",
       "\n",
       "       daily_vaccinations_raw  daily_vaccinations  \\\n",
       "count            7.830000e+03        1.530700e+04   \n",
       "mean             1.359830e+05        7.910911e+04   \n",
       "std              5.231930e+05        3.616686e+05   \n",
       "min              0.000000e+00        0.000000e+00   \n",
       "25%              3.020500e+03        9.175000e+02   \n",
       "50%              1.603550e+04        6.506000e+03   \n",
       "75%              6.341400e+04        2.987550e+04   \n",
       "max              1.160100e+07        7.205286e+06   \n",
       "\n",
       "       total_vaccinations_per_hundred  people_vaccinated_per_hundred  \\\n",
       "count                     9325.000000                    8649.000000   \n",
       "mean                        15.928546                      11.555663   \n",
       "std                         23.530195                      15.459619   \n",
       "min                          0.000000                       0.000000   \n",
       "25%                          1.390000                       1.300000   \n",
       "50%                          6.590000                       5.080000   \n",
       "75%                         20.610000                      15.340000   \n",
       "max                        211.080000                     111.320000   \n",
       "\n",
       "       people_fully_vaccinated_per_hundred  daily_vaccinations_per_million  \n",
       "count                          6425.000000                    15307.000000  \n",
       "mean                              5.836851                     2997.132292  \n",
       "std                              10.116900                     4693.081687  \n",
       "min                               0.000000                        0.000000  \n",
       "25%                               0.650000                      358.000000  \n",
       "50%                               2.460000                     1501.000000  \n",
       "75%                               6.630000                     4008.500000  \n",
       "max                              99.760000                   118759.000000  "
      ]
     },
     "execution_count": 4,
     "metadata": {},
     "output_type": "execute_result"
    }
   ],
   "source": [
    "data.describe()"
   ]
  },
  {
   "cell_type": "code",
   "execution_count": 7,
   "metadata": {},
   "outputs": [
    {
     "data": {
      "text/plain": [
       "0       2021-02-22\n",
       "1       2021-02-23\n",
       "2       2021-02-24\n",
       "3       2021-02-25\n",
       "4       2021-02-26\n",
       "           ...    \n",
       "15500   2021-04-30\n",
       "15501   2021-01-05\n",
       "15502   2021-02-05\n",
       "15503   2021-03-05\n",
       "15504   2021-04-05\n",
       "Name: date, Length: 15505, dtype: datetime64[ns]"
      ]
     },
     "execution_count": 7,
     "metadata": {},
     "output_type": "execute_result"
    }
   ],
   "source": [
    "pd.to_datetime(data.date)"
   ]
  },
  {
   "cell_type": "code",
   "execution_count": 8,
   "metadata": {},
   "outputs": [
    {
     "data": {
      "text/plain": [
       "Canada           143\n",
       "China            142\n",
       "Russia           142\n",
       "Israel           138\n",
       "United States    137\n",
       "                ... \n",
       "Somalia            1\n",
       "Djibouti           1\n",
       "Libya              1\n",
       "Armenia            1\n",
       "Congo              1\n",
       "Name: country, Length: 195, dtype: int64"
      ]
     },
     "execution_count": 8,
     "metadata": {},
     "output_type": "execute_result"
    }
   ],
   "source": [
    "data.country.value_counts()"
   ]
  },
  {
   "cell_type": "markdown",
   "metadata": {},
   "source": [
    "The United Kingdom is made up of England, Scotland, Wales, and Northern Ireland. But in the above data, these countries are mentioned separately with the same values as in the United Kingdom. So this may be an error while recording this data. So for fixing this error:"
   ]
  },
  {
   "cell_type": "code",
   "execution_count": 9,
   "metadata": {},
   "outputs": [
    {
     "data": {
      "text/plain": [
       "Canada           143\n",
       "China            142\n",
       "Russia           142\n",
       "Israel           138\n",
       "United States    137\n",
       "                ... \n",
       "Armenia            1\n",
       "Congo              1\n",
       "Somalia            1\n",
       "Timor              1\n",
       "Libya              1\n",
       "Name: country, Length: 191, dtype: int64"
      ]
     },
     "execution_count": 9,
     "metadata": {},
     "output_type": "execute_result"
    }
   ],
   "source": [
    "data = data[data.country.apply(lambda x: x not in [\"England\", \"Scotland\", \"Wales\", \"Northern Ireland\"])]\n",
    "data.country.value_counts()"
   ]
  },
  {
   "cell_type": "markdown",
   "metadata": {},
   "source": [
    "### Exploring the vaccines available in this dataset"
   ]
  },
  {
   "cell_type": "code",
   "execution_count": 10,
   "metadata": {},
   "outputs": [
    {
     "data": {
      "text/plain": [
       "Oxford/AstraZeneca                                                                    2574\n",
       "Moderna, Oxford/AstraZeneca, Pfizer/BioNTech                                          1886\n",
       "Johnson&Johnson, Moderna, Oxford/AstraZeneca, Pfizer/BioNTech                         1522\n",
       "Oxford/AstraZeneca, Pfizer/BioNTech                                                   1402\n",
       "Pfizer/BioNTech                                                                       1216\n",
       "Moderna, Pfizer/BioNTech                                                               594\n",
       "Oxford/AstraZeneca, Sinopharm/Beijing                                                  585\n",
       "Oxford/AstraZeneca, Pfizer/BioNTech, Sinovac                                           495\n",
       "Oxford/AstraZeneca, Sinovac                                                            467\n",
       "Sputnik V                                                                              436\n",
       "Oxford/AstraZeneca, Pfizer/BioNTech, Sinopharm/Beijing, Sputnik V                      404\n",
       "Pfizer/BioNTech, Sinovac                                                               388\n",
       "Oxford/AstraZeneca, Sinopharm/Beijing, Sputnik V                                       310\n",
       "Sinopharm/Beijing                                                                      289\n",
       "Oxford/AstraZeneca, Pfizer/BioNTech, Sinopharm/Beijing                                 238\n",
       "Pfizer/BioNTech, Sinopharm/Beijing                                                     200\n",
       "Oxford/AstraZeneca, Pfizer/BioNTech, Sinovac, Sputnik V                                192\n",
       "Oxford/AstraZeneca, Sinopharm/Beijing, Sinovac                                         165\n",
       "Sinopharm/Beijing, Sputnik V                                                           149\n",
       "EpiVacCorona, Sputnik V                                                                142\n",
       "Sinopharm/Beijing, Sinopharm/Wuhan, Sinovac                                            142\n",
       "Johnson&Johnson, Moderna, Pfizer/BioNTech                                              137\n",
       "CanSino, Oxford/AstraZeneca, Pfizer/BioNTech, Sinovac, Sputnik V                       132\n",
       "Moderna, Oxford/AstraZeneca, Pfizer/BioNTech, Sinopharm/Beijing, Sputnik V             129\n",
       "Oxford/AstraZeneca, Pfizer/BioNTech, Sinopharm/Beijing, Sinopharm/Wuhan, Sputnik V     121\n",
       "Oxford/AstraZeneca, Sputnik V                                                          111\n",
       "Covaxin, Oxford/AstraZeneca                                                            111\n",
       "Moderna, Oxford/AstraZeneca                                                            110\n",
       "CanSino, Sinopharm/Beijing, Sinovac, Sputnik V                                          92\n",
       "Oxford/AstraZeneca, Pfizer/BioNTech, Sputnik V                                          79\n",
       "Johnson&Johnson                                                                         78\n",
       "Pfizer/BioNTech, Sputnik V                                                              67\n",
       "Pfizer/BioNTech, Sinovac, Sputnik V                                                     53\n",
       "Oxford/AstraZeneca, Sinovac, Sputnik V                                                   1\n",
       "Name: vaccines, dtype: int64"
      ]
     },
     "execution_count": 10,
     "metadata": {},
     "output_type": "execute_result"
    }
   ],
   "source": [
    "data.vaccines.value_counts()"
   ]
  },
  {
   "cell_type": "markdown",
   "metadata": {},
   "source": [
    "So we have almost all the Covid-19 vaccines available in this dataset. Now I will create a new DataFrame by only selecting the vaccine and the country columns to explore which vaccine is taken by which country:"
   ]
  },
  {
   "cell_type": "code",
   "execution_count": 12,
   "metadata": {},
   "outputs": [
    {
     "data": {
      "text/html": [
       "<div>\n",
       "<style scoped>\n",
       "    .dataframe tbody tr th:only-of-type {\n",
       "        vertical-align: middle;\n",
       "    }\n",
       "\n",
       "    .dataframe tbody tr th {\n",
       "        vertical-align: top;\n",
       "    }\n",
       "\n",
       "    .dataframe thead th {\n",
       "        text-align: right;\n",
       "    }\n",
       "</style>\n",
       "<table border=\"1\" class=\"dataframe\">\n",
       "  <thead>\n",
       "    <tr style=\"text-align: right;\">\n",
       "      <th></th>\n",
       "      <th>vaccines</th>\n",
       "      <th>country</th>\n",
       "    </tr>\n",
       "  </thead>\n",
       "  <tbody>\n",
       "    <tr>\n",
       "      <th>0</th>\n",
       "      <td>Oxford/AstraZeneca</td>\n",
       "      <td>Afghanistan</td>\n",
       "    </tr>\n",
       "    <tr>\n",
       "      <th>1</th>\n",
       "      <td>Oxford/AstraZeneca</td>\n",
       "      <td>Afghanistan</td>\n",
       "    </tr>\n",
       "    <tr>\n",
       "      <th>2</th>\n",
       "      <td>Oxford/AstraZeneca</td>\n",
       "      <td>Afghanistan</td>\n",
       "    </tr>\n",
       "    <tr>\n",
       "      <th>3</th>\n",
       "      <td>Oxford/AstraZeneca</td>\n",
       "      <td>Afghanistan</td>\n",
       "    </tr>\n",
       "    <tr>\n",
       "      <th>4</th>\n",
       "      <td>Oxford/AstraZeneca</td>\n",
       "      <td>Afghanistan</td>\n",
       "    </tr>\n",
       "  </tbody>\n",
       "</table>\n",
       "</div>"
      ],
      "text/plain": [
       "             vaccines      country\n",
       "0  Oxford/AstraZeneca  Afghanistan\n",
       "1  Oxford/AstraZeneca  Afghanistan\n",
       "2  Oxford/AstraZeneca  Afghanistan\n",
       "3  Oxford/AstraZeneca  Afghanistan\n",
       "4  Oxford/AstraZeneca  Afghanistan"
      ]
     },
     "execution_count": 12,
     "metadata": {},
     "output_type": "execute_result"
    }
   ],
   "source": [
    "df = data[['vaccines', 'country']]\n",
    "df.head()"
   ]
  },
  {
   "cell_type": "markdown",
   "metadata": {},
   "source": [
    "#### Now let’s see how many countries are taking each of the vaccines mentioned in this data:"
   ]
  },
  {
   "cell_type": "code",
   "execution_count": 13,
   "metadata": {},
   "outputs": [
    {
     "name": "stdout",
     "output_type": "stream",
     "text": [
      "Oxford/AstraZeneca:>>{'Afghanistan', 'Gambia', 'Malawi', 'Brunei', 'Saint Helena', 'Trinidad and Tobago', 'Myanmar', \"Cote d'Ivoire\", 'Fiji', 'Sao Tome and Principe', 'Vietnam', 'Timor', 'Grenada', 'Cape Verde', 'Guyana', 'Jamaica', 'Bahamas', 'Montserrat', 'Angola', 'Georgia', 'Sudan', 'Suriname', 'Eswatini', 'Bhutan', 'Djibouti', 'Mauritius', 'Saint Kitts and Nevis', 'Antigua and Barbuda', 'Belize', 'Saint Vincent and the Grenadines', 'Falkland Islands', 'Ghana', 'Democratic Republic of Congo', 'Bangladesh', 'Dominica', 'Anguilla', 'Nauru', 'Samoa', 'Sierra Leone', 'South Sudan', 'Mali', 'Solomon Islands', 'Taiwan', 'Lesotho', 'Botswana', 'Zambia', 'Uzbekistan', 'Uganda', 'Barbados', 'Saint Lucia', 'Kosovo', 'Togo', 'Papua New Guinea', 'Tonga', 'Nigeria', 'Ethiopia'}\n",
      "Oxford/AstraZeneca, Pfizer/BioNTech, Sinovac, Sputnik V:>>{'Albania', 'Bosnia and Herzegovina'}\n",
      "Sputnik V:>>{'Armenia', 'Syria', 'Algeria', 'Belarus', 'Venezuela', 'Paraguay', 'Guinea', 'Kazakhstan'}\n",
      "Oxford/AstraZeneca, Pfizer/BioNTech:>>{'Sweden', 'Cayman Islands', 'Costa Rica', 'Panama', 'Jersey', 'Oman', 'South Korea', 'Isle of Man', 'Andorra', 'Australia', 'Guernsey', 'Saudi Arabia', 'Slovenia'}\n",
      "Oxford/AstraZeneca, Sinopharm/Beijing, Sputnik V:>>{'Argentina', 'Iran', 'Bolivia'}\n",
      "Pfizer/BioNTech:>>{'New Zealand', 'Greenland', 'Gibraltar', 'Japan', 'Monaco', 'Bermuda', 'Slovakia', 'Aruba', 'Qatar', 'Cyprus', 'Kuwait', 'Turks and Caicos Islands'}\n",
      "Johnson&Johnson, Moderna, Oxford/AstraZeneca, Pfizer/BioNTech:>>{'Germany', 'Romania', 'France', 'Italy', 'Latvia', 'Belgium', 'Lithuania', 'Spain', 'Poland', 'Czechia', 'Netherlands', 'Austria'}\n",
      "Oxford/AstraZeneca, Sinovac:>>{'Philippines', 'Thailand', 'Azerbaijan', 'Brazil', 'Indonesia'}\n",
      "Oxford/AstraZeneca, Pfizer/BioNTech, Sinopharm/Beijing, Sputnik V:>>{'Mongolia', 'Bahrain', 'Serbia', 'Lebanon'}\n",
      "Moderna, Oxford/AstraZeneca, Pfizer/BioNTech:>>{'Portugal', 'Malta', 'Rwanda', 'Iceland', 'Ireland', 'Bulgaria', 'Denmark', 'Finland', 'Palestine', 'Estonia', 'Luxembourg', 'Greece', 'Canada', 'Croatia', 'United Kingdom', 'Norway'}\n",
      "Oxford/AstraZeneca, Sinopharm/Beijing, Sinovac:>>{'Cambodia', 'Dominican Republic'}\n",
      "Sinopharm/Beijing:>>{'Mozambique', 'Cameroon', 'Senegal', 'Niger', 'Mauritania', 'Gabon', 'Equatorial Guinea', 'Zimbabwe'}\n",
      "Pfizer/BioNTech, Sinovac:>>{'Chile', 'Malaysia', 'Turkey', 'Hong Kong'}\n",
      "Sinopharm/Beijing, Sinopharm/Wuhan, Sinovac:>>{'China'}\n",
      "Oxford/AstraZeneca, Pfizer/BioNTech, Sinovac:>>{'Colombia', 'Ukraine', 'El Salvador', 'Northern Cyprus', 'Uruguay', 'Ecuador'}\n",
      "Sinopharm/Beijing, Sputnik V:>>{'Congo', 'Laos', 'Montenegro', 'Kyrgyzstan'}\n",
      "Moderna, Pfizer/BioNTech:>>{'Faeroe Islands', 'Israel', 'Switzerland', 'Singapore', 'Curacao', 'Liechtenstein'}\n",
      "Oxford/AstraZeneca, Sinopharm/Beijing:>>{'Somalia', 'Seychelles', 'Nepal', 'Namibia', 'Egypt', 'Iraq', 'Sri Lanka', 'Morocco'}\n",
      "Moderna, Oxford/AstraZeneca:>>{'Honduras', 'Guatemala'}\n",
      "Moderna, Oxford/AstraZeneca, Pfizer/BioNTech, Sinopharm/Beijing, Sputnik V:>>{'Hungary'}\n",
      "Covaxin, Oxford/AstraZeneca:>>{'India'}\n",
      "Pfizer/BioNTech, Sinopharm/Beijing:>>{'Jordan', 'Macao'}\n",
      "Oxford/AstraZeneca, Sputnik V:>>{'Kenya', 'Nicaragua'}\n",
      "Oxford/AstraZeneca, Sinovac, Sputnik V:>>{'Libya'}\n",
      "Oxford/AstraZeneca, Pfizer/BioNTech, Sinopharm/Beijing:>>{'Moldova', 'Maldives', 'Peru'}\n",
      "CanSino, Oxford/AstraZeneca, Pfizer/BioNTech, Sinovac, Sputnik V:>>{'Mexico'}\n",
      "Oxford/AstraZeneca, Pfizer/BioNTech, Sputnik V:>>{'North Macedonia'}\n",
      "CanSino, Sinopharm/Beijing, Sinovac, Sputnik V:>>{'Pakistan'}\n",
      "EpiVacCorona, Sputnik V:>>{'Russia'}\n",
      "Pfizer/BioNTech, Sputnik V:>>{'San Marino'}\n",
      "Johnson&Johnson:>>{'South Africa'}\n",
      "Pfizer/BioNTech, Sinovac, Sputnik V:>>{'Tunisia'}\n",
      "Oxford/AstraZeneca, Pfizer/BioNTech, Sinopharm/Beijing, Sinopharm/Wuhan, Sputnik V:>>{'United Arab Emirates'}\n",
      "Johnson&Johnson, Moderna, Pfizer/BioNTech:>>{'United States'}\n"
     ]
    }
   ],
   "source": [
    "dict_ = {}\n",
    "for i in df.vaccines.unique():\n",
    "    dict_[i] = [df['country'][j] for j in df[df['vaccines'] == i].index]\n",
    "    \n",
    "\n",
    "vaccines = {}\n",
    "for key, value in dict_.items():\n",
    "    vaccines[key] = set(value)\n",
    "for i,j in vaccines.items():\n",
    "    print(f'{i}:>>{j}')"
   ]
  },
  {
   "cell_type": "markdown",
   "metadata": {},
   "source": [
    "### Now let’s visualize this data to have a look at what combination of vaccines every country is using:"
   ]
  },
  {
   "cell_type": "code",
   "execution_count": 2,
   "metadata": {},
   "outputs": [
    {
     "ename": "NameError",
     "evalue": "name 'data' is not defined",
     "output_type": "error",
     "traceback": [
      "\u001b[1;31m---------------------------------------------------------------------------\u001b[0m",
      "\u001b[1;31mNameError\u001b[0m                                 Traceback (most recent call last)",
      "\u001b[1;32m<ipython-input-2-52ce7e0d25d3>\u001b[0m in \u001b[0;36m<module>\u001b[1;34m\u001b[0m\n\u001b[0;32m      2\u001b[0m \u001b[1;32mimport\u001b[0m \u001b[0mplotly\u001b[0m\u001b[1;33m.\u001b[0m\u001b[0moffline\u001b[0m \u001b[1;32mas\u001b[0m \u001b[0mpy\u001b[0m\u001b[1;33m\u001b[0m\u001b[1;33m\u001b[0m\u001b[0m\n\u001b[0;32m      3\u001b[0m \u001b[1;33m\u001b[0m\u001b[0m\n\u001b[1;32m----> 4\u001b[1;33m \u001b[0mvaccine_map\u001b[0m \u001b[1;33m=\u001b[0m \u001b[0mpx\u001b[0m\u001b[1;33m.\u001b[0m\u001b[0mchoropleth\u001b[0m\u001b[1;33m(\u001b[0m\u001b[0mdata\u001b[0m\u001b[1;33m,\u001b[0m \u001b[0mlocations\u001b[0m \u001b[1;33m=\u001b[0m \u001b[1;34m'iso_code'\u001b[0m\u001b[1;33m,\u001b[0m \u001b[0mcolor\u001b[0m \u001b[1;33m=\u001b[0m \u001b[1;34m'vaccines'\u001b[0m\u001b[1;33m)\u001b[0m\u001b[1;33m\u001b[0m\u001b[1;33m\u001b[0m\u001b[0m\n\u001b[0m\u001b[0;32m      5\u001b[0m \u001b[0mvaccine_map\u001b[0m\u001b[1;33m.\u001b[0m\u001b[0mupdate_layout\u001b[0m\u001b[1;33m(\u001b[0m\u001b[0mheight\u001b[0m \u001b[1;33m=\u001b[0m \u001b[1;36m300\u001b[0m\u001b[1;33m,\u001b[0m \u001b[0mmargin\u001b[0m \u001b[1;33m=\u001b[0m \u001b[1;33m{\u001b[0m\u001b[1;34m'r'\u001b[0m\u001b[1;33m:\u001b[0m\u001b[1;36m0\u001b[0m\u001b[1;33m,\u001b[0m \u001b[1;34m't'\u001b[0m\u001b[1;33m:\u001b[0m\u001b[1;36m0\u001b[0m\u001b[1;33m,\u001b[0m \u001b[1;34m'l'\u001b[0m\u001b[1;33m:\u001b[0m\u001b[1;36m0\u001b[0m\u001b[1;33m,\u001b[0m \u001b[1;34m'b'\u001b[0m\u001b[1;33m:\u001b[0m\u001b[1;36m0\u001b[0m\u001b[1;33m}\u001b[0m\u001b[1;33m)\u001b[0m\u001b[1;33m\u001b[0m\u001b[1;33m\u001b[0m\u001b[0m\n\u001b[0;32m      6\u001b[0m \u001b[0mvaccine_map\u001b[0m\u001b[1;33m.\u001b[0m\u001b[0mshow\u001b[0m\u001b[1;33m(\u001b[0m\u001b[1;33m)\u001b[0m\u001b[1;33m\u001b[0m\u001b[1;33m\u001b[0m\u001b[0m\n",
      "\u001b[1;31mNameError\u001b[0m: name 'data' is not defined"
     ]
    }
   ],
   "source": [
    "import plotly.express as px\n",
    "import plotly.offline as py\n",
    "\n",
    "vaccine_map = px.choropleth(data, locations = 'iso_code', color = 'vaccines')\n",
    "vaccine_map.update_layout(height = 300, margin = {'r':0, 't':0, 'l':0, 'b':0})\n",
    "vaccine_map.show()"
   ]
  },
  {
   "cell_type": "code",
   "execution_count": null,
   "metadata": {},
   "outputs": [],
   "source": []
  }
 ],
 "metadata": {
  "kernelspec": {
   "display_name": "Python 3",
   "language": "python",
   "name": "python3"
  }
 },
 "nbformat": 4,
 "nbformat_minor": 4
}
